{
 "cells": [
  {
   "cell_type": "code",
   "execution_count": 1,
   "metadata": {},
   "outputs": [],
   "source": [
    "from pprint import pprint\n",
    "\n",
    "fname = r'input.txt'\n",
    "# fname = r'test.txt'\n",
    "\n",
    "# Load input\n",
    "with open(fname, 'r') as fp:\n",
    "    lines = fp.readlines()\n",
    "\n",
    "garden_coords = set()\n",
    "for ln_num, ln in enumerate(lines):\n",
    "    for char_num, char in enumerate(ln.strip()):\n",
    "        if char == '.':\n",
    "            garden_coords.add((ln_num, char_num))\n",
    "        \n",
    "        if char == 'S':\n",
    "            start_pos = (ln_num, char_num)\n",
    "max_x = ln_num + 1\n",
    "max_y = char_num + 1"
   ]
  },
  {
   "cell_type": "code",
   "execution_count": 2,
   "metadata": {},
   "outputs": [],
   "source": [
    "garden_coords.add(start_pos)\n",
    "visited_gardens = {start_pos}"
   ]
  },
  {
   "cell_type": "code",
   "execution_count": 3,
   "metadata": {},
   "outputs": [],
   "source": [
    "processed_gardens = set()\n",
    "possible_end_gardens = set()\n",
    "# num_steps = 26501365\n"
   ]
  },
  {
   "cell_type": "code",
   "execution_count": 4,
   "metadata": {},
   "outputs": [],
   "source": [
    "def explore_garden(num_steps, start_pos):\n",
    "    visited_gardens = {start_pos}\n",
    "    for _ in range(num_steps):  # take 64 steps\n",
    "        gardens_this_step = set()\n",
    "        for x, y in visited_gardens:  # go through each garden visited\n",
    "            for new_coords in [(x+1, y), (x-1, y), (x, y+1), (x, y-1)]: # try one step in any direction\n",
    "                    if new_coords in garden_coords:  # is it a garden?\n",
    "                        gardens_this_step.add(new_coords)  # mark it as visited\n",
    "        visited_gardens=gardens_this_step\n",
    "\n",
    "    return len(visited_gardens)\n"
   ]
  },
  {
   "cell_type": "code",
   "execution_count": 5,
   "metadata": {},
   "outputs": [],
   "source": [
    "def number_gardens_with_repeats(num_steps, start_pos):\n",
    "    visited_gardens = {start_pos}\n",
    "    processed_gardens = set()\n",
    "    possible_end_gardens = set()\n",
    "    for step_num in range(num_steps):\n",
    "        gardens_this_step = set()\n",
    "        for x, y in visited_gardens:  # go through each garden visited\n",
    "            for new_coords in [(x+1, y), (x-1, y), (x, y+1), (x, y-1)]: # try one step in any direction\n",
    "                    new_x, new_y = new_coords\n",
    "                    if (new_x % max_x, new_y % max_y) in garden_coords:  # is it a garden?\n",
    "                        if new_coords not in processed_gardens:\n",
    "                            gardens_this_step.add(new_coords)  # mark it as visited\n",
    "        processed_gardens.update(gardens_this_step)\n",
    "        if step_num % 2 != num_steps % 2:\n",
    "            possible_end_gardens.update(gardens_this_step)\n",
    "        visited_gardens = gardens_this_step\n",
    "    \n",
    "    return(len(possible_end_gardens))"
   ]
  },
  {
   "cell_type": "markdown",
   "metadata": {},
   "source": [
    "# Check for test gardens"
   ]
  },
  {
   "cell_type": "code",
   "execution_count": 6,
   "metadata": {},
   "outputs": [],
   "source": [
    "# Try on test gardens\n",
    "\n",
    "# for num_steps in [6, 10, 50, 100, 500, 1000, 5000]:\n",
    "#     print(f'{num_steps=}  num_gardens={number_gardens_with_repeats(num_steps, start_pos)}')\n"
   ]
  },
  {
   "cell_type": "markdown",
   "metadata": {},
   "source": [
    "## Results\n",
    "When run on test gardens, results match given values on test input:\n",
    "```\n",
    "num_steps=6  num_gardens=16\n",
    "num_steps=10  num_gardens=50\n",
    "num_steps=50  num_gardens=1594\n",
    "num_steps=100  num_gardens=6536\n",
    "num_steps=500  num_gardens=167004\n",
    "num_steps=1000  num_gardens=668697\n",
    "num_steps=5000  num_gardens=16733044\n",
    "```"
   ]
  },
  {
   "cell_type": "code",
   "execution_count": 9,
   "metadata": {},
   "outputs": [],
   "source": [
    "import numpy as np"
   ]
  },
  {
   "cell_type": "code",
   "execution_count": 38,
   "metadata": {},
   "outputs": [
    {
     "data": {
      "text/plain": [
       "26501365"
      ]
     },
     "execution_count": 38,
     "metadata": {},
     "output_type": "execute_result"
    }
   ],
   "source": [
    "65 + 131*202300"
   ]
  },
  {
   "cell_type": "code",
   "execution_count": 44,
   "metadata": {},
   "outputs": [
    {
     "data": {
      "text/plain": [
       "[3882, 34441, 95442, 186885, 308770, 461097, 643866, 857077, 1100730, 1374825]"
      ]
     },
     "execution_count": 44,
     "metadata": {},
     "output_type": "execute_result"
    }
   ],
   "source": [
    "num_visted_gardens = []\n",
    "for i in range(10):\n",
    "    num_steps = 65 + 131*i\n",
    "    num_visted_gardens.append(number_gardens_with_repeats(num_steps, start_pos))\n",
    "\n",
    "num_visted_gardens"
   ]
  },
  {
   "cell_type": "code",
   "execution_count": 45,
   "metadata": {},
   "outputs": [
    {
     "data": {
      "text/plain": [
       "array([   3882,   34441,   95442,  186885,  308770,  461097,  643866,\n",
       "        857077, 1100730, 1374825])"
      ]
     },
     "execution_count": 45,
     "metadata": {},
     "output_type": "execute_result"
    }
   ],
   "source": [
    "arr = np.array(num_visted_gardens)\n",
    "arr"
   ]
  },
  {
   "cell_type": "code",
   "execution_count": 58,
   "metadata": {},
   "outputs": [
    {
     "name": "stdout",
     "output_type": "stream",
     "text": [
      "[   3882   34441   95442  186885  308770  461097  643866  857077 1100730\n",
      " 1374825]\n",
      "[ 30559  61001  91443 121885 152327 182769 213211 243653 274095]\n",
      "[30442 30442 30442 30442 30442 30442 30442 30442]\n",
      "[0 0 0 0 0 0 0]\n"
     ]
    }
   ],
   "source": [
    "print(arr)\n",
    "print(np.diff(arr))\n",
    "print(np.diff(np.diff(arr)))\n",
    "print(np.diff(np.diff(np.diff(arr))))"
   ]
  },
  {
   "cell_type": "markdown",
   "metadata": {},
   "source": [
    "## Figure out quadratic equation\n",
    "\n",
    "$$\n",
    "\\begin{darray}{rcl}\n",
    "f(x) &=& ax^2 + bx + c \\\\\n",
    "f(0) &=& c \\\\\n",
    "c &=& 3882 \\\\\n",
    "\\\\\n",
    "f'(x) &=& 2ax + b \\\\\n",
    "f''(x) &=& 2a \\\\\n",
    "f''(\\cdot) &=& 30442 \\\\\n",
    "a &=& 15221 \\\\\n",
    "\\\\\n",
    "f(1) &=& 34441 \\\\\n",
    "15221(1)^2 + b + 3882 &=& 34441 \\\\\n",
    "b &=& 15338 \\\\\n",
    "\\\\\n",
    "f(x) &=& 15221 x^2 + 15338 x + 3882\\\\\n",
    "\\end{darray}\n",
    "$$"
   ]
  },
  {
   "cell_type": "markdown",
   "metadata": {},
   "source": [
    "## Testing quadratic equation"
   ]
  },
  {
   "cell_type": "code",
   "execution_count": 60,
   "metadata": {},
   "outputs": [],
   "source": [
    "def num_gardens_visited(num_reps):\n",
    "    return 15221 * num_reps**2 + 15338 * num_reps + 3882"
   ]
  },
  {
   "cell_type": "code",
   "execution_count": 63,
   "metadata": {},
   "outputs": [
    {
     "data": {
      "text/plain": [
       "[(3882, 3882),\n",
       " (34441, 34441),\n",
       " (95442, 95442),\n",
       " (186885, 186885),\n",
       " (308770, 308770),\n",
       " (461097, 461097),\n",
       " (643866, 643866),\n",
       " (857077, 857077),\n",
       " (1100730, 1100730),\n",
       " (1374825, 1374825)]"
      ]
     },
     "execution_count": 63,
     "metadata": {},
     "output_type": "execute_result"
    }
   ],
   "source": [
    "# Test\n",
    "[(arr[i], num_gardens_visited(i)) for i in range(10)]"
   ]
  },
  {
   "cell_type": "code",
   "execution_count": 64,
   "metadata": {},
   "outputs": [
    {
     "data": {
      "text/plain": [
       "622926941971282"
      ]
     },
     "execution_count": 64,
     "metadata": {},
     "output_type": "execute_result"
    }
   ],
   "source": [
    "num_gardens_visited(202300)"
   ]
  },
  {
   "cell_type": "markdown",
   "metadata": {},
   "source": [
    "# Ignore information below\n",
    "Stuff that didn't really work but I'm not ready to delete yet."
   ]
  },
  {
   "cell_type": "markdown",
   "metadata": {},
   "source": [
    "# Analysis\n",
    "\n",
    "By inspection, can reach all 7645 accessible gardens in one map repeat with 130 steps (accounting for parity).\n",
    "\n",
    "Investigating starting at edge:"
   ]
  },
  {
   "cell_type": "code",
   "execution_count": null,
   "metadata": {},
   "outputs": [],
   "source": [
    "for num_steps in [256, 258, 260, 262]:\n",
    "    num_gardens = explore_garden(num_steps, (0,0))\n",
    "    print(f'{num_steps=}, {num_gardens=}')"
   ]
  },
  {
   "cell_type": "markdown",
   "metadata": {},
   "source": [
    "Investing odd parity"
   ]
  },
  {
   "cell_type": "code",
   "execution_count": null,
   "metadata": {},
   "outputs": [],
   "source": [
    "for num_steps in [255, 257, 259, 261]:\n",
    "    num_gardens = explore_garden(num_steps, (0,0))\n",
    "    print(f'{num_steps=}, {num_gardens=}')"
   ]
  },
  {
   "cell_type": "markdown",
   "metadata": {},
   "source": [
    "# Analysis\n",
    "\n",
    "Can reach all 7576 odd-partiy gardens in 259 steps"
   ]
  },
  {
   "cell_type": "code",
   "execution_count": null,
   "metadata": {},
   "outputs": [],
   "source": [
    "number_steps = 26501365\n",
    "\n",
    "# number of steps once at edge of first garden = 65\n",
    "print(remaining_steps:=number_steps - 65)\n",
    "print(possible_map_explorations:=remaining_steps / 131)\n"
   ]
  }
 ],
 "metadata": {
  "kernelspec": {
   "display_name": "advent_of_code-Oq552mXY",
   "language": "python",
   "name": "python3"
  },
  "language_info": {
   "codemirror_mode": {
    "name": "ipython",
    "version": 3
   },
   "file_extension": ".py",
   "mimetype": "text/x-python",
   "name": "python",
   "nbconvert_exporter": "python",
   "pygments_lexer": "ipython3",
   "version": "3.11.4"
  }
 },
 "nbformat": 4,
 "nbformat_minor": 2
}
