{
 "cells": [
  {
   "cell_type": "code",
   "execution_count": 22,
   "metadata": {},
   "outputs": [],
   "source": [
    "# import numpy as np\n",
    "from pprint import pprint\n",
    "from pathlib import Path\n"
   ]
  },
  {
   "cell_type": "code",
   "execution_count": 23,
   "metadata": {},
   "outputs": [],
   "source": [
    "fname = Path(r'input.txt')\n",
    "fname_test = Path(r'test.txt')\n",
    "\n",
    "with open(fname, 'r') as fp:\n",
    "    lines = fp.readlines()\n",
    "\n",
    "with open(fname_test, 'r') as fp:\n",
    "    lines_test = fp.readlines()\n"
   ]
  },
  {
   "cell_type": "code",
   "execution_count": 24,
   "metadata": {},
   "outputs": [],
   "source": [
    "class Hailstone():\n",
    "    def __init__(self, x, y, z, vx, vy, vz):\n",
    "        self.x0 = int(x)\n",
    "        self.y0 = int(y)\n",
    "        self.z0 = int(z)\n",
    "        self.vx = int(vx)\n",
    "        self.vy = int(vy)\n",
    "        self.vz = int(vz)\n",
    "\n",
    "\n",
    "    def __repr__(self):\n",
    "        return f'Hailstone(x0={self.x0}, y0={self.y0}, z0={self.z0}, vx={self.vx}, vy={self.vy}, vz={self.vz})'\n",
    "    \n",
    "\n",
    "    def get_t(self, *, x=None, y=None):\n",
    "        \"\"\"Get t from either x or y\"\"\"\n",
    "        if x is not None:\n",
    "            t = (x - self.x0) / self.vx\n",
    "        else:\n",
    "            t = (y - self.y0) / self.vy\n",
    "        return t\n",
    "    \n",
    "    @property\n",
    "    def a(self):\n",
    "        return np.array([[-self.vy, self.vx]], np.float_, ndmin=2)\n",
    "    \n",
    "    @property\n",
    "    def b(self):\n",
    "        return np.array([self.vx * self.y0 - self.vy * self.x0], np.float_, ndmin=1)\n",
    "    \n",
    "\n",
    "    def collision_position(self, other):\n",
    "        \"\"\"Return x, y position of collision\"\"\"\n",
    "        a_mat = np.concatenate([self.a, other.a])\n",
    "        b_mat = np.concatenate([self.b, other.b])\n",
    "        result = np.dot(np.linalg.inv(a_mat), b_mat)\n",
    "        return result\n",
    "    \n",
    "    def test_collision(self, other):\n",
    "        # print(f'{self}, {other}')\n",
    "        try:\n",
    "            result = self.collision_position(other)\n",
    "            # print(result)\n",
    "        except np.linalg.LinAlgError as e:\n",
    "            # Singluar matrix: no solution, parallel lines\n",
    "            # print(\" no match\")\n",
    "            return False\n",
    "        if (result < XMIN).any():\n",
    "            # print(' too low')\n",
    "            return False\n",
    "        if (result > XMAX).any():\n",
    "            # print(' too high')\n",
    "            return False\n",
    "        if self.get_t(x=result[0]) < 0: \n",
    "            # print(' self in the past')\n",
    "            return False\n",
    "        if other.get_t(x=result[0]) < 0:\n",
    "            # print(' other in the past')\n",
    "            return False\n",
    "        \n",
    "        # print(' added')\n",
    "        return True\n"
   ]
  },
  {
   "cell_type": "code",
   "execution_count": 25,
   "metadata": {},
   "outputs": [
    {
     "name": "stdout",
     "output_type": "stream",
     "text": [
      "[Hailstone(x0=19, y0=13, z0=30, vx=-2, vy=1, vz=-2),\n",
      " Hailstone(x0=18, y0=19, z0=22, vx=-1, vy=-1, vz=-2),\n",
      " Hailstone(x0=20, y0=25, z0=34, vx=-2, vy=-2, vz=-4),\n",
      " Hailstone(x0=12, y0=31, z0=28, vx=-1, vy=-2, vz=-1),\n",
      " Hailstone(x0=20, y0=19, z0=15, vx=1, vy=-5, vz=-3)]\n"
     ]
    }
   ],
   "source": [
    "hail_list = []\n",
    "for ln in lines:\n",
    "    pos_vel = ln.strip().replace('@', ',').split(r',')\n",
    "    hail_list.append(Hailstone(*pos_vel))\n",
    "\n",
    "hail_list_test = []\n",
    "for ln in lines_test:\n",
    "    pos_vel = ln.strip().replace('@', ',').split(r',')\n",
    "    hail_list_test.append(Hailstone(*pos_vel))\n",
    "\n",
    "pprint(hail_list_test)\n"
   ]
  },
  {
   "cell_type": "code",
   "execution_count": 26,
   "metadata": {},
   "outputs": [],
   "source": [
    "def collision_time(hailstone, other_object):\n",
    "    dx0 = hailstone.x0 - other_object.x0\n",
    "    dy0 = hailstone.y0 - other_object.y0\n",
    "    dz0 = hailstone.z0 - other_object.z0\n",
    "    dvx = hailstone.vx - other_object.vx\n",
    "    dvy = hailstone.vy - other_object.vy\n",
    "    dvz = hailstone.vz - other_object.vz\n",
    "\n",
    "    t = -((dx0*dvx + dy0*dvy + dz0*dvz) / (dvx**2 + dvy**2 + dvz**2))\n",
    "    return t\n"
   ]
  },
  {
   "cell_type": "code",
   "execution_count": 27,
   "metadata": {},
   "outputs": [
    {
     "name": "stdout",
     "output_type": "stream",
     "text": [
      "5.0\n",
      "3.0\n",
      "4.0\n",
      "6.0\n",
      "1.0\n"
     ]
    }
   ],
   "source": [
    "# Test--check collision times correct--model brick as a Hailstone\n",
    "\n",
    "for hail_stone in hail_list_test:\n",
    "    print(collision_time(hail_stone, Hailstone(24,13,10,-3,1,2)))"
   ]
  },
  {
   "cell_type": "code",
   "execution_count": 28,
   "metadata": {},
   "outputs": [],
   "source": [
    "def min_seperation_squared(hailstone, other_object):\n",
    "    dx0 = hailstone.x0 - other_object.x0\n",
    "    dy0 = hailstone.y0 - other_object.y0\n",
    "    dz0 = hailstone.z0 - other_object.z0\n",
    "    dvx = hailstone.vx - other_object.vx\n",
    "    dvy = hailstone.vy - other_object.vy\n",
    "    dvz = hailstone.vz - other_object.vz\n",
    "\n",
    "    t = -((dx0*dvx + dy0*dvy + dz0*dvz) / (dvx**2 + dvy**2 + dvz**2))\n",
    "\n",
    "    dx2 = (dx0 + dvx*t)**2\n",
    "    dy2 = (dy0 + dvy*t)**2\n",
    "    dz2 = (dz0 + dvz*t)**2\n",
    "\n",
    "    r2 = dx2 + dy2 + dz2\n",
    "    return r2"
   ]
  },
  {
   "cell_type": "code",
   "execution_count": 29,
   "metadata": {},
   "outputs": [
    {
     "name": "stdout",
     "output_type": "stream",
     "text": [
      "0.0\n",
      "0.0\n",
      "0.0\n",
      "0.0\n",
      "0.0\n"
     ]
    }
   ],
   "source": [
    "# Test\n",
    "for hail_stone in hail_list_test:\n",
    "    print(min_seperation_squared(hail_stone, Hailstone(24,13,10,-3,1,2)))"
   ]
  },
  {
   "cell_type": "code",
   "execution_count": 30,
   "metadata": {},
   "outputs": [],
   "source": [
    "def display_two_hailstones(h1_indx, h2_indx, h1, h2):\n",
    "    print(f'{h1_indx:<4}   {h1}\\n->{h2_indx:<3}  {h2}')\n"
   ]
  },
  {
   "cell_type": "code",
   "execution_count": 31,
   "metadata": {},
   "outputs": [
    {
     "name": "stdout",
     "output_type": "stream",
     "text": [
      "239    Hailstone(x0=300193693260508, y0=151611923410873, z0=231363386790708, vx=185, vy=-134, vz=71)\n",
      "->268  Hailstone(x0=306960548670948, y0=230204613282241, z0=231363386790708, vx=-38, vy=-112, vz=71)\n"
     ]
    }
   ],
   "source": [
    "for h1_indx in range(len(hail_list) - 1):\n",
    "    for h2_indx in range(h1_indx+1, len(hail_list)):\n",
    "        h1 = hail_list[h1_indx]\n",
    "        h2 = hail_list[h2_indx]\n",
    "        if h1.x0 == h2.x0 and h1.vx == h2.vx:\n",
    "            display_two_hailstones(h1_indx, h2_indx, h1, h2)\n",
    "        if h1.y0 == h2.y0 and h1.vy == h2.vy:\n",
    "            display_two_hailstones(h1_indx, h2_indx, h1, h2)\n",
    "        if h1.z0 == h2.z0 and h1.vz == h2.vz:\n",
    "            display_two_hailstones(h1_indx, h2_indx, h1, h2)\n"
   ]
  },
  {
   "cell_type": "markdown",
   "metadata": {},
   "source": [
    "Hailstones 239 and 268 have the same z coordinate and z velocity. Therefore the brick must pass through the point they collide in the x-y plane OR must have vz == 0. Since none of the hailstones will collide then vz must be zero."
   ]
  },
  {
   "cell_type": "code",
   "execution_count": 32,
   "metadata": {},
   "outputs": [],
   "source": [
    "hs1 = hail_list[239]\n",
    "hs2 = hail_list[268]\n",
    "\n"
   ]
  },
  {
   "cell_type": "markdown",
   "metadata": {},
   "source": [
    "# Update rock parameters\n",
    "We now know z0 and vz for the rock--must be in the same x-y plane as hs1 and hs2"
   ]
  },
  {
   "cell_type": "code",
   "execution_count": 33,
   "metadata": {},
   "outputs": [],
   "source": [
    "rock = {'z0': hs1.z0, \n",
    "        'vz': hs1.vz}"
   ]
  },
  {
   "cell_type": "markdown",
   "metadata": {},
   "source": [
    "Move into hailstone 239's frame of reference."
   ]
  },
  {
   "cell_type": "code",
   "execution_count": 34,
   "metadata": {},
   "outputs": [
    {
     "data": {
      "text/plain": [
       "{'z0': 231363386790708, 'vz': 71, 'z0p': 0, 'vzp': 0}"
      ]
     },
     "execution_count": 34,
     "metadata": {},
     "output_type": "execute_result"
    }
   ],
   "source": [
    "hs0 = hs1\n",
    "transformed_hail_list = [\n",
    "    Hailstone(hs.x0 - hs0.x0, \n",
    "              hs.y0 - hs0.y0, \n",
    "              hs.z0 - hs0.z0, \n",
    "              hs.vx - hs0.vx, \n",
    "              hs.vy - hs0.vy, \n",
    "              hs.vz - hs0.vz)\n",
    "        for hs in hail_list]\n",
    "transformed_hail_list[:10]\n",
    "\n",
    "# suffix 'p' (==primed) -- value in hs1 reference frame (RF1). Let RF0 == rest reference frame\n",
    "\n",
    "hs1p = transformed_hail_list[239]\n",
    "hs2p = transformed_hail_list[268]\n",
    "rock['z0p'] = hs1p.z0\n",
    "rock['vzp'] = hs1p.vz\n",
    "\n",
    "rock"
   ]
  },
  {
   "cell_type": "code",
   "execution_count": 35,
   "metadata": {},
   "outputs": [
    {
     "name": "stdout",
     "output_type": "stream",
     "text": [
      "26 Hailstone(x0=-173920921494258, y0=19551577975824, z0=-215958551457157, vx=31, vy=331, vz=331)\n",
      "37 Hailstone(x0=-52402971967504, y0=187762958632892, z0=15431755619736, vx=-99, vy=-99, vz=-36)\n",
      "239 Hailstone(x0=0, y0=0, z0=0, vx=0, vy=0, vz=0)\n"
     ]
    }
   ],
   "source": [
    "# Check for other hailstones with two components of velocity the same\n",
    "\n",
    "for indx, h1 in enumerate(transformed_hail_list):\n",
    "    if h1.vx == h1.vy or h1.vy == h1.vz or h1.vz == h1.vx:\n",
    "        print(indx, h1)\n"
   ]
  },
  {
   "cell_type": "markdown",
   "metadata": {},
   "source": [
    "# Use these new hailstones to solve equations for rock"
   ]
  },
  {
   "cell_type": "code",
   "execution_count": 36,
   "metadata": {},
   "outputs": [],
   "source": [
    "hs3 = hail_list[26]  # vy == vz\n",
    "hs4 = hail_list[37]  # vx == vy\n",
    "\n",
    "hs3p = transformed_hail_list[26]\n",
    "hs4p = transformed_hail_list[37]"
   ]
  },
  {
   "cell_type": "code",
   "execution_count": 37,
   "metadata": {},
   "outputs": [
    {
     "name": "stdout",
     "output_type": "stream",
     "text": [
      "652442753647.0 235510129432981.0\n",
      "-153695196131201.0\n"
     ]
    }
   ],
   "source": [
    "# To find vxp, vyp for rock\n",
    "# hs3_{t, xp, yp} are time, x, and y coord (in RF1) when rock collides with hailstone.\n",
    "\n",
    "# When hs3 gets to RF1:\n",
    "hs3_t = -hs3p.z0 / hs3p.vz\n",
    "\n",
    "# transformed y position at this time:\n",
    "hs3_yp = hs3p.y0 + hs3p.vy * hs3_t\n",
    "print(hs3_t, hs3_yp)\n",
    "\n",
    "# transformed x pos at this time:\n",
    "hs3_xp = hs3p.x0 + hs3p.vx * hs3_t\n",
    "print(hs3_xp)\n",
    "\n",
    "# now know that in RF1, rock passes through (0,0,0) and (hs3_xp, hs3_yp, 0)\n",
    "# so rock['vxp'] / rock['vyp'] = hs3_xp / hs3_yp"
   ]
  },
  {
   "cell_type": "code",
   "execution_count": 38,
   "metadata": {},
   "outputs": [
    {
     "name": "stdout",
     "output_type": "stream",
     "text": [
      "428659878326.0 145325630678618.0\n",
      "-94840299921778.0\n"
     ]
    }
   ],
   "source": [
    "# repeat for HS4\n",
    "\n",
    "# When hs4 gets to RF1:\n",
    "hs4_t = -hs4p.z0 / hs4p.vz\n",
    "\n",
    "# transformed y position at this time:\n",
    "hs4_yp = hs4p.y0 + hs4p.vy * hs4_t\n",
    "print(hs4_t, hs4_yp)\n",
    "\n",
    "# transformed x pos at this time:\n",
    "hs4_xp = hs4p.x0 + hs4p.vx * hs4_t\n",
    "print(hs4_xp)"
   ]
  },
  {
   "cell_type": "code",
   "execution_count": 39,
   "metadata": {},
   "outputs": [
    {
     "name": "stdout",
     "output_type": "stream",
     "text": [
      "{'vxp': -263.0,\n",
      " 'vyp': 403.0,\n",
      " 'vz': 71,\n",
      " 'vzp': 0,\n",
      " 'z0': 231363386790708,\n",
      " 'z0p': 0}\n",
      "-0.652605459057072\n",
      "-0.652605459057072\n",
      "-0.652605459057072\n"
     ]
    }
   ],
   "source": [
    "# We don't know when rock passes through (0,0,0). We do now know two points, collision with HS3 and HS4. \n",
    "# We can solve to find angle rock must move in\n",
    "\n",
    "rock['vyp'] = (hs4_yp - hs3_yp) / (hs4_t - hs3_t)\n",
    "rock['vxp'] = (hs4_xp - hs3_xp) / (hs4_t - hs3_t)\n",
    "\n",
    "pprint(rock)\n",
    "print(rock['vxp'] / rock['vyp'])\n",
    "print(hs3_xp / hs3_yp)  # should be the same as previous line\n",
    "print(hs4_xp / hs4_yp)  # should be the same as previous line"
   ]
  },
  {
   "cell_type": "code",
   "execution_count": 40,
   "metadata": {},
   "outputs": [
    {
     "name": "stdout",
     "output_type": "stream",
     "text": [
      "68050372920.0\n",
      "68050372920.0\n"
     ]
    }
   ],
   "source": [
    "# Get time rock passes through origin in RF1\n",
    "\n",
    "t03 = hs3_t - (hs3_xp / rock['vxp'])\n",
    "t04 = hs4_t - (hs4_xp / rock['vxp'])\n",
    "print(t03)  # should be the same\n",
    "print(t04)\n",
    "\n",
    "t0 = t03"
   ]
  },
  {
   "cell_type": "code",
   "execution_count": 41,
   "metadata": {},
   "outputs": [
    {
     "data": {
      "text/plain": [
       "{'z0': 231363386790708,\n",
       " 'vz': 71,\n",
       " 'z0p': 0,\n",
       " 'vzp': 0,\n",
       " 'vyp': 403.0,\n",
       " 'vxp': -263.0,\n",
       " 'x0p': 17897248077960.0,\n",
       " 'y0p': -27424300286760.0}"
      ]
     },
     "execution_count": 41,
     "metadata": {},
     "output_type": "execute_result"
    }
   ],
   "source": [
    "# Calculate back to get x0, y0 in RF1\n",
    "\n",
    "rock['x0p'] = -rock['vxp'] * t0\n",
    "rock['y0p'] = -rock['vyp'] * t0\n",
    "rock"
   ]
  },
  {
   "cell_type": "code",
   "execution_count": 42,
   "metadata": {},
   "outputs": [
    {
     "name": "stdout",
     "output_type": "stream",
     "text": [
      "{'z0': 231363386790708, 'vz': 71, 'z0p': 0, 'vzp': 0, 'vyp': 403.0, 'vxp': -263.0, 'x0p': 17897248077960.0, 'y0p': -27424300286760.0, 'x0': 318090941338468.0, 'y0': 124187623124113.0}\n",
      "673641951253289\n"
     ]
    }
   ],
   "source": [
    "# Transform rooc coordinates back to rest frame RF0\n",
    "\n",
    "rock['x0'] = rock['x0p'] + hs1.x0\n",
    "rock['y0'] = rock['y0p'] + hs1.y0\n",
    "print(rock)\n",
    "result = sum([rock[coord] for coord in ['x0', 'y0', 'z0']])\n",
    "print(int(result))"
   ]
  },
  {
   "cell_type": "code",
   "execution_count": null,
   "metadata": {},
   "outputs": [],
   "source": []
  }
 ],
 "metadata": {
  "kernelspec": {
   "display_name": "advent_of_code-Oq552mXY",
   "language": "python",
   "name": "python3"
  },
  "language_info": {
   "codemirror_mode": {
    "name": "ipython",
    "version": 3
   },
   "file_extension": ".py",
   "mimetype": "text/x-python",
   "name": "python",
   "nbconvert_exporter": "python",
   "pygments_lexer": "ipython3",
   "version": "3.11.4"
  }
 },
 "nbformat": 4,
 "nbformat_minor": 2
}
